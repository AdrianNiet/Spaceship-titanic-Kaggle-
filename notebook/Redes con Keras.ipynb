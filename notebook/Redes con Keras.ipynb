{
 "cells": [
  {
   "cell_type": "code",
   "execution_count": 109,
   "metadata": {},
   "outputs": [],
   "source": [
    "import pandas as pd\n",
    "import seaborn as sns\n",
    "from sklearn.preprocessing import LabelEncoder\n",
    "import matplotlib.pyplot as plt\n",
    "import numpy as np\n",
    "\n",
    "from statsmodels.tsa.stattools import adfuller, kpss\n",
    "from statsmodels.tsa.seasonal import seasonal_decompose\n",
    "from pandas.plotting import autocorrelation_plot\n",
    "import cv2\n",
    "from skimage.io import imread\n",
    "from keras.preprocessing.image import ImageDataGenerator, load_img\n",
    "from sklearn.model_selection import train_test_split\n",
    "from sklearn.ensemble import RandomForestClassifier\n",
    "from keras.callbacks import EarlyStopping, ModelCheckpoint\n",
    "from tensorflow import keras\n",
    "from sklearn.preprocessing import LabelEncoder\n",
    "from sklearn.metrics import accuracy_score\n",
    "import tensorflow as tf\n",
    "from tensorflow.keras import layers, models\n",
    "from tensorflow.keras.preprocessing.image import ImageDataGenerator\n",
    "import pickle\n",
    "\n",
    "BATCH_SIZE = 32\n",
    "EPOCHS = 50\n",
    "earlystop = EarlyStopping(patience=5)"
   ]
  },
  {
   "cell_type": "code",
   "execution_count": 110,
   "metadata": {},
   "outputs": [],
   "source": [
    "train = pd.read_csv(\"../data/processed/train_processed.csv\")\n",
    "df_test = pd.read_csv(\"../data/processed/test_processed.csv\")\n",
    "test = df_test.drop([\"Name\", \"PassengerId\",\"Cabin\"], axis =1)"
   ]
  },
  {
   "cell_type": "code",
   "execution_count": 111,
   "metadata": {},
   "outputs": [],
   "source": [
    "columnas_bool = train.select_dtypes(include='bool').columns\n",
    "\n",
    "train[columnas_bool] = train[columnas_bool].astype(int)\n",
    "\n",
    "columnas_bool = test.select_dtypes(include='bool').columns\n",
    "\n",
    "test[columnas_bool] = test[columnas_bool].astype(int)"
   ]
  },
  {
   "cell_type": "code",
   "execution_count": 112,
   "metadata": {},
   "outputs": [
    {
     "data": {
      "text/plain": [
       "HomePlanet           int64\n",
       "CryoSleep            int32\n",
       "Destination          int64\n",
       "Age                float64\n",
       "VIP                  int32\n",
       "RoomService        float64\n",
       "FoodCourt          float64\n",
       "ShoppingMall       float64\n",
       "Spa                float64\n",
       "VRDeck             float64\n",
       "Transported          int32\n",
       "Spa_VRDeck_0.0       int32\n",
       "all_0.0              int32\n",
       "Earth_0.0            int32\n",
       "TRAPPIST-1e_0.0      int32\n",
       "dtype: object"
      ]
     },
     "execution_count": 112,
     "metadata": {},
     "output_type": "execute_result"
    }
   ],
   "source": [
    "train.dtypes"
   ]
  },
  {
   "cell_type": "code",
   "execution_count": 113,
   "metadata": {},
   "outputs": [],
   "source": [
    "X_train, X_test, y_train, y_test = train_test_split(train.drop([\"Transported\"],axis=1), train[\"Transported\"], test_size=0.2, random_state=42)"
   ]
  },
  {
   "cell_type": "code",
   "execution_count": 114,
   "metadata": {},
   "outputs": [
    {
     "name": "stdout",
     "output_type": "stream",
     "text": [
      "(6954, 14)\n"
     ]
    }
   ],
   "source": [
    "print(X_train.shape)"
   ]
  },
  {
   "cell_type": "code",
   "execution_count": 115,
   "metadata": {},
   "outputs": [],
   "source": [
    "layers = [\n",
    "    keras.layers.Dense(128, activation='relu', input_shape=(14,)),\n",
    "    keras.layers.Dense(32, activation='relu'),\n",
    "    keras.layers.Dense(1, activation='sigmoid')\n",
    "]\n",
    "\n",
    "\n",
    "model = keras.Sequential(layers)\n",
    "\n",
    "model.compile(optimizer = 'adam',\n",
    "             loss = 'binary_crossentropy',\n",
    "             metrics = ['accuracy'])"
   ]
  },
  {
   "cell_type": "code",
   "execution_count": 116,
   "metadata": {},
   "outputs": [
    {
     "name": "stdout",
     "output_type": "stream",
     "text": [
      "Model: \"sequential_14\"\n",
      "_________________________________________________________________\n",
      " Layer (type)                Output Shape              Param #   \n",
      "=================================================================\n",
      " dense_56 (Dense)            (None, 128)               1920      \n",
      "                                                                 \n",
      " dense_57 (Dense)            (None, 32)                4128      \n",
      "                                                                 \n",
      " dense_58 (Dense)            (None, 1)                 33        \n",
      "                                                                 \n",
      "=================================================================\n",
      "Total params: 6081 (23.75 KB)\n",
      "Trainable params: 6081 (23.75 KB)\n",
      "Non-trainable params: 0 (0.00 Byte)\n",
      "_________________________________________________________________\n"
     ]
    }
   ],
   "source": [
    "model.summary()"
   ]
  },
  {
   "cell_type": "code",
   "execution_count": 120,
   "metadata": {},
   "outputs": [
    {
     "name": "stdout",
     "output_type": "stream",
     "text": [
      "Epoch 1/50\n",
      "174/174 [==============================] - 0s 2ms/step - loss: 0.4314 - accuracy: 0.7999 - val_loss: 0.4190 - val_accuracy: 0.8109\n",
      "Epoch 2/50\n",
      "174/174 [==============================] - 0s 1ms/step - loss: 0.4315 - accuracy: 0.8005 - val_loss: 0.4212 - val_accuracy: 0.8160\n",
      "Epoch 3/50\n",
      "174/174 [==============================] - 0s 1ms/step - loss: 0.4300 - accuracy: 0.8023 - val_loss: 0.4165 - val_accuracy: 0.8116\n",
      "Epoch 4/50\n",
      "174/174 [==============================] - 0s 1ms/step - loss: 0.4299 - accuracy: 0.8010 - val_loss: 0.4249 - val_accuracy: 0.8081\n",
      "Epoch 5/50\n",
      "174/174 [==============================] - 0s 1ms/step - loss: 0.4338 - accuracy: 0.7990 - val_loss: 0.4162 - val_accuracy: 0.8145\n",
      "Epoch 6/50\n",
      "174/174 [==============================] - 0s 1ms/step - loss: 0.4309 - accuracy: 0.8017 - val_loss: 0.4193 - val_accuracy: 0.8066\n",
      "Epoch 7/50\n",
      "174/174 [==============================] - 0s 1ms/step - loss: 0.4329 - accuracy: 0.7976 - val_loss: 0.4110 - val_accuracy: 0.8095\n",
      "Epoch 8/50\n",
      "174/174 [==============================] - 0s 1ms/step - loss: 0.4291 - accuracy: 0.8023 - val_loss: 0.4120 - val_accuracy: 0.8102\n",
      "Epoch 9/50\n",
      "174/174 [==============================] - 0s 1ms/step - loss: 0.4293 - accuracy: 0.8017 - val_loss: 0.4064 - val_accuracy: 0.8095\n",
      "Epoch 10/50\n",
      "174/174 [==============================] - 0s 1ms/step - loss: 0.4320 - accuracy: 0.8005 - val_loss: 0.4048 - val_accuracy: 0.8160\n",
      "Epoch 11/50\n",
      "174/174 [==============================] - 0s 1ms/step - loss: 0.4292 - accuracy: 0.8055 - val_loss: 0.4087 - val_accuracy: 0.8095\n",
      "Epoch 12/50\n",
      "174/174 [==============================] - 0s 1ms/step - loss: 0.4306 - accuracy: 0.8010 - val_loss: 0.4305 - val_accuracy: 0.7951\n",
      "Epoch 13/50\n",
      "174/174 [==============================] - 0s 1ms/step - loss: 0.4300 - accuracy: 0.8017 - val_loss: 0.4201 - val_accuracy: 0.8109\n",
      "Epoch 14/50\n",
      "174/174 [==============================] - 0s 1ms/step - loss: 0.4311 - accuracy: 0.7992 - val_loss: 0.4145 - val_accuracy: 0.8160\n",
      "Epoch 15/50\n",
      "174/174 [==============================] - 0s 1ms/step - loss: 0.4283 - accuracy: 0.8008 - val_loss: 0.4323 - val_accuracy: 0.7965\n"
     ]
    }
   ],
   "source": [
    "history = model.fit(X_train,\n",
    "         y_train,\n",
    "         epochs = EPOCHS,\n",
    "         batch_size = BATCH_SIZE,\n",
    "         callbacks = [earlystop],\n",
    "         validation_split = 0.2)"
   ]
  },
  {
   "cell_type": "code",
   "execution_count": 121,
   "metadata": {},
   "outputs": [
    {
     "name": "stdout",
     "output_type": "stream",
     "text": [
      "134/134 [==============================] - 0s 782us/step\n"
     ]
    }
   ],
   "source": [
    "predicciones = model.predict(test)"
   ]
  },
  {
   "cell_type": "code",
   "execution_count": 122,
   "metadata": {},
   "outputs": [
    {
     "data": {
      "text/plain": [
       "array([[0.5673081 ],\n",
       "       [0.01239444],\n",
       "       [0.9721256 ],\n",
       "       ...,\n",
       "       [0.91998065],\n",
       "       [0.59906745],\n",
       "       [0.6107827 ]], dtype=float32)"
      ]
     },
     "execution_count": 122,
     "metadata": {},
     "output_type": "execute_result"
    }
   ],
   "source": [
    "predicciones"
   ]
  },
  {
   "cell_type": "code",
   "execution_count": 129,
   "metadata": {},
   "outputs": [],
   "source": [
    "predicciones_umbral = np.where(predicciones < 0.5, False, True)"
   ]
  },
  {
   "cell_type": "code",
   "execution_count": 130,
   "metadata": {},
   "outputs": [
    {
     "data": {
      "text/plain": [
       "array([[ True],\n",
       "       [False],\n",
       "       [ True],\n",
       "       ...,\n",
       "       [ True],\n",
       "       [ True],\n",
       "       [ True]])"
      ]
     },
     "execution_count": 130,
     "metadata": {},
     "output_type": "execute_result"
    }
   ],
   "source": [
    "predicciones_umbral"
   ]
  },
  {
   "cell_type": "code",
   "execution_count": 131,
   "metadata": {},
   "outputs": [],
   "source": [
    "pasajero = pd.read_csv(\"../data/raw/test.csv\")"
   ]
  },
  {
   "cell_type": "code",
   "execution_count": 132,
   "metadata": {},
   "outputs": [],
   "source": [
    "submission = pd.DataFrame()\n",
    "submission[\"PassengerId\"] = pasajero[\"PassengerId\"]\n",
    "submission[\"Transported\"] = predicciones_umbral"
   ]
  },
  {
   "cell_type": "code",
   "execution_count": 133,
   "metadata": {},
   "outputs": [
    {
     "data": {
      "text/html": [
       "<div>\n",
       "<style scoped>\n",
       "    .dataframe tbody tr th:only-of-type {\n",
       "        vertical-align: middle;\n",
       "    }\n",
       "\n",
       "    .dataframe tbody tr th {\n",
       "        vertical-align: top;\n",
       "    }\n",
       "\n",
       "    .dataframe thead th {\n",
       "        text-align: right;\n",
       "    }\n",
       "</style>\n",
       "<table border=\"1\" class=\"dataframe\">\n",
       "  <thead>\n",
       "    <tr style=\"text-align: right;\">\n",
       "      <th></th>\n",
       "      <th>PassengerId</th>\n",
       "      <th>Transported</th>\n",
       "    </tr>\n",
       "  </thead>\n",
       "  <tbody>\n",
       "    <tr>\n",
       "      <th>0</th>\n",
       "      <td>0013_01</td>\n",
       "      <td>True</td>\n",
       "    </tr>\n",
       "    <tr>\n",
       "      <th>1</th>\n",
       "      <td>0018_01</td>\n",
       "      <td>False</td>\n",
       "    </tr>\n",
       "    <tr>\n",
       "      <th>2</th>\n",
       "      <td>0019_01</td>\n",
       "      <td>True</td>\n",
       "    </tr>\n",
       "    <tr>\n",
       "      <th>3</th>\n",
       "      <td>0021_01</td>\n",
       "      <td>True</td>\n",
       "    </tr>\n",
       "    <tr>\n",
       "      <th>4</th>\n",
       "      <td>0023_01</td>\n",
       "      <td>True</td>\n",
       "    </tr>\n",
       "    <tr>\n",
       "      <th>...</th>\n",
       "      <td>...</td>\n",
       "      <td>...</td>\n",
       "    </tr>\n",
       "    <tr>\n",
       "      <th>4272</th>\n",
       "      <td>9266_02</td>\n",
       "      <td>True</td>\n",
       "    </tr>\n",
       "    <tr>\n",
       "      <th>4273</th>\n",
       "      <td>9269_01</td>\n",
       "      <td>False</td>\n",
       "    </tr>\n",
       "    <tr>\n",
       "      <th>4274</th>\n",
       "      <td>9271_01</td>\n",
       "      <td>True</td>\n",
       "    </tr>\n",
       "    <tr>\n",
       "      <th>4275</th>\n",
       "      <td>9273_01</td>\n",
       "      <td>True</td>\n",
       "    </tr>\n",
       "    <tr>\n",
       "      <th>4276</th>\n",
       "      <td>9277_01</td>\n",
       "      <td>True</td>\n",
       "    </tr>\n",
       "  </tbody>\n",
       "</table>\n",
       "<p>4277 rows × 2 columns</p>\n",
       "</div>"
      ],
      "text/plain": [
       "     PassengerId  Transported\n",
       "0        0013_01         True\n",
       "1        0018_01        False\n",
       "2        0019_01         True\n",
       "3        0021_01         True\n",
       "4        0023_01         True\n",
       "...          ...          ...\n",
       "4272     9266_02         True\n",
       "4273     9269_01        False\n",
       "4274     9271_01         True\n",
       "4275     9273_01         True\n",
       "4276     9277_01         True\n",
       "\n",
       "[4277 rows x 2 columns]"
      ]
     },
     "execution_count": 133,
     "metadata": {},
     "output_type": "execute_result"
    }
   ],
   "source": [
    "submission"
   ]
  },
  {
   "cell_type": "code",
   "execution_count": 134,
   "metadata": {},
   "outputs": [],
   "source": [
    "submission.to_csv(\"../data/processed/Submission_keras.csv\", index=False)"
   ]
  }
 ],
 "metadata": {
  "kernelspec": {
   "display_name": "Python 3",
   "language": "python",
   "name": "python3"
  },
  "language_info": {
   "codemirror_mode": {
    "name": "ipython",
    "version": 3
   },
   "file_extension": ".py",
   "mimetype": "text/x-python",
   "name": "python",
   "nbconvert_exporter": "python",
   "pygments_lexer": "ipython3",
   "version": "3.11.3"
  }
 },
 "nbformat": 4,
 "nbformat_minor": 2
}
